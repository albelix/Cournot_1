{
 "cells": [
  {
   "cell_type": "markdown",
   "metadata": {
    "collapsed": false,
    "slideshow": {
     "slide_type": "slide"
    }
   },
   "source": [
    "# Cournot competition model\n",
    "Assumptions:\n",
    "Isoelastic inverse demand $$p = \\frac{\\gamma S}{Q}$$\n",
    "Linear cost $$c(q_i) = F_i + cq_i$$\n",
    "Symmetric equilibrium $$q_i^{\\ast} = \\frac{\\gamma S (N-1)}{{N^2 c}}$$ \n",
    "Price $$p^{\\ast} = \\frac{Nc}{(N-1)}$$ \n",
    "Profit $$\\pi^{\\ast} =  \\frac{\\gamma S}{N^2}-F_i$$"
   ]
  },
  {
   "cell_type": "code",
   "execution_count": 3,
   "metadata": {
    "collapsed": false
   },
   "outputs": [
    {
     "data": {
      "image/png": "iVBORw0KGgoAAAANSUhEUgAAAhAAAAFkCAYAAABxWwLDAAAABHNCSVQICAgIfAhkiAAAAAlwSFlz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\nRK5CYII=\n",
      "text/plain": [
       "<matplotlib.figure.Figure at 0x7f41991f0668>"
      ]
     },
     "metadata": {},
     "output_type": "display_data"
    },
    {
     "data": {
      "text/plain": [
       "<function __main__.pltsin>"
      ]
     },
     "execution_count": 3,
     "metadata": {},
     "output_type": "execute_result"
    }
   ],
   "source": [
    "# move the slider to change the number of firms in an industry\n",
    "# Blue line shows best response of the firm on different outputs of its (symmetric) rivals\n",
    "# Red dot shows optimum output of the firm given the output of its (symmetric) rivals for each number of competitors.\n",
    "# It decreases with the number of competitors.\n",
    "import pandas as pd\n",
    "import matplotlib.pyplot as plt\n",
    "from ipywidgets import *\n",
    "import numpy as np\n",
    "from IPython.html import widgets\n",
    "\n",
    "q = np.arange(0, 20, .1)\n",
    "c=1\n",
    "gamma=5\n",
    "S=10\n",
    "F=0\n",
    "\n",
    "def pltsin(n):\n",
    "    plt.plot(q, np.sqrt((gamma*S*(n-1)*q)/c)-(n-1)*q)\n",
    "    data_q = n\n",
    "    data_qbr = ((n-1)*gamma*S)/((n**2)*c)\n",
    "    plt.axis([0.0,20.0, -20.0,15.0])\n",
    "    ax = plt.gca()\n",
    "    ax.set_autoscale_on(False)\n",
    "    plt.plot(data_q, data_qbr, 'or')\n",
    "    plt.show()\n",
    "    \n",
    "interact(pltsin, n=(2,10,1))\n",
    "\n",
    "    "
   ]
  }
 ],
 "metadata": {
  "anaconda-cloud": {},
  "celltoolbar": "Slideshow",
  "kernelspec": {
   "display_name": "Python [default]",
   "language": "python",
   "name": "python3"
  },
  "language_info": {
   "codemirror_mode": {
    "name": "ipython",
    "version": 3
   },
   "file_extension": ".py",
   "mimetype": "text/x-python",
   "name": "python",
   "nbconvert_exporter": "python",
   "pygments_lexer": "ipython3",
   "version": "3.5.2"
  },
  "widgets": {
   "state": {
    "7bb89d9152304003aad7eb7b1f3ad531": {
     "views": [
      {
       "cell_index": 1
      }
     ]
    }
   },
   "version": "1.2.0"
  }
 },
 "nbformat": 4,
 "nbformat_minor": 1
}
Cournot_Model-Copy1.ipynb
Cournot_Model-Copy1.ipynb
